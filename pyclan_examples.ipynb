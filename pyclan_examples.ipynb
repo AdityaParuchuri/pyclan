{
 "cells": [
  {
   "cell_type": "code",
   "execution_count": 1,
   "metadata": {
    "collapsed": true
   },
   "outputs": [],
   "source": [
    "import pyclan # first, import the library\n",
    "\n",
    "# ignore this it's just for pretty printing...\n",
    "import pprint\n",
    "pp = pprint.PrettyPrinter()"
   ]
  },
  {
   "cell_type": "markdown",
   "metadata": {},
   "source": [
    "# objects\n",
    "\n",
    "These are the objects that pyclan exposes. They represent progressively smaller subdivisions of a CLAN file:\n",
    "- **ClanFile**\n",
    " - this represents the whole CLAN file (.cha)\n",
    "- **BlockGroup**\n",
    " - this is a collection of ClanBlocks\n",
    "- **ClanBlock**\n",
    " - this is a single conversation block\n",
    "  - delimited by:\n",
    "   - @Bg Conversation XYZ (to begin)\n",
    "   - @Eg Conversation XYZ (to end)\n",
    "- **LineRange**\n",
    " - this is a collection of single ClanLine's\n",
    "- **ClanLine**\n",
    " - this is a single line within the CLAN file. Line's are delimited by \"\\n\""
   ]
  },
  {
   "cell_type": "markdown",
   "metadata": {},
   "source": [
    "# loading a CLAN file\n",
    "\n",
    "First you need to construct a **ClanFile** object by loading a .cha file into it. Just supply a path to the file:"
   ]
  },
  {
   "cell_type": "code",
   "execution_count": 2,
   "metadata": {
    "collapsed": true
   },
   "outputs": [],
   "source": [
    "clan_file = pyclan.ClanFile(\"sample_data/31_14_coderSD_final.cha\")"
   ]
  },
  {
   "cell_type": "markdown",
   "metadata": {},
   "source": [
    "# class ClanFile\n",
    "\n",
    "A ClanFile object has a bunch of different values associated with it and methods you can call to filter/get info about the file. \n",
    "\n",
    "\n",
    "Let's print some of the basic variables that are part of every ClanFile object:\n"
   ]
  },
  {
   "cell_type": "code",
   "execution_count": 3,
   "metadata": {
    "collapsed": false
   },
   "outputs": [
    {
     "data": {
      "text/plain": [
       "714"
      ]
     },
     "execution_count": 3,
     "metadata": {},
     "output_type": "execute_result"
    }
   ],
   "source": [
    "clan_file.num_full_blocks"
   ]
  },
  {
   "cell_type": "code",
   "execution_count": 4,
   "metadata": {
    "collapsed": false
   },
   "outputs": [
    {
     "data": {
      "text/plain": [
       "'sample_data/31_14_coderSD_final.cha'"
      ]
     },
     "execution_count": 4,
     "metadata": {},
     "output_type": "execute_result"
    }
   ],
   "source": [
    "clan_file.clan_path"
   ]
  },
  {
   "cell_type": "markdown",
   "metadata": {},
   "source": [
    "## ClanFile.line_map\n",
    "\n",
    "Each ClanFile has a line_map member variable. This is a list of ClanLines. The line_map list is fundamental internal representation of a CLAN file. You can loop through the line_map and print the content within each ClanLine:\n"
   ]
  },
  {
   "cell_type": "code",
   "execution_count": 5,
   "metadata": {
    "collapsed": false
   },
   "outputs": [
    {
     "name": "stdout",
     "output_type": "stream",
     "text": [
      "%xdb:\taverage_dB=\"-34.55\" peak_dB=\"-19.83\"\n",
      "\n",
      "*OLN:\t0 . \u001514510_16190\u0015\n",
      "\n",
      "%xdb:\taverage_dB=\"-30.45\" peak_dB=\"-20.70\"\n",
      "\n",
      "*NOF:\t0 . \u001516190_17000\u0015\n",
      "\n",
      "%xdb:\taverage_dB=\"-40.45\" peak_dB=\"-32.04\"\n",
      "\n",
      "*OLN:\t0 . \u001517000_18300\u0015\n",
      "\n",
      "%xdb:\taverage_dB=\"-27.94\" peak_dB=\"-17.41\"\n",
      "\n",
      "*NOF:\t0 . \u001518300_19100\u0015\n",
      "\n",
      "%xdb:\taverage_dB=\"-42.45\" peak_dB=\"-27.65\"\n",
      "\n",
      "*SIL:\t0 . \u001519100_20180\u0015\n",
      "\n"
     ]
    }
   ],
   "source": [
    "# we're just looking at lines 50-60 to save space, \n",
    "# but you can loop through the entire line map if \n",
    "# you want everything in a CLAN file\n",
    "\n",
    "for line in clan_file.line_map[50:60]:\n",
    "    print line.line"
   ]
  },
  {
   "cell_type": "markdown",
   "metadata": {},
   "source": [
    "You have access to all the information in every ClanLine object in the line_map. In this next example, we loop through, check if a line is a tiered ClanLine, and if so, print just the tier:"
   ]
  },
  {
   "cell_type": "code",
   "execution_count": 6,
   "metadata": {
    "collapsed": false
   },
   "outputs": [
    {
     "name": "stdout",
     "output_type": "stream",
     "text": [
      "OLN\n",
      "NOF\n",
      "OLN\n",
      "NOF\n",
      "SIL\n"
     ]
    }
   ],
   "source": [
    "# again, just looking at lines 50-60 to save space\n",
    "\n",
    "for line in clan_file.line_map[50:60]:\n",
    "    if line.is_tier_line:\n",
    "        print line.tier"
   ]
  },
  {
   "cell_type": "markdown",
   "metadata": {},
   "source": [
    "# class ClanLine\n",
    "\n",
    "Here are all the variables that belong to a ClanLine object:\n"
   ]
  },
  {
   "cell_type": "code",
   "execution_count": 7,
   "metadata": {
    "collapsed": false
   },
   "outputs": [
    {
     "name": "stdout",
     "output_type": "stream",
     "text": [
      "{'content': '0 . ',\n",
      " 'conv_block_num': 0,\n",
      " 'index': 149,\n",
      " 'is_clan_comment': False,\n",
      " 'is_conv_block_delimiter': False,\n",
      " 'is_end_header': False,\n",
      " 'is_header': False,\n",
      " 'is_multi_parent': False,\n",
      " 'is_paus_block_delimiter': False,\n",
      " 'is_tier_line': True,\n",
      " 'is_tier_without_timestamp': False,\n",
      " 'is_user_comment': False,\n",
      " 'line': '*NOF:\\t0 . \\x1570240_74140\\x15\\n',\n",
      " 'multi_line_parent': None,\n",
      " 'tier': 'NOF',\n",
      " 'time_offset': 74140,\n",
      " 'time_onset': 70240,\n",
      " 'total_time': 3900,\n",
      " 'within_conv_block': False,\n",
      " 'within_paus_block': False,\n",
      " 'xdb_average': 0,\n",
      " 'xdb_line': False,\n",
      " 'xdb_peak': 0}\n"
     ]
    }
   ],
   "source": [
    "# just select a random ClanLine (happens to be 149th line in the line_map\n",
    "# in this example) and print all the member variables:\n",
    "\n",
    "random_clanline = clan_file.line_map[149]\n",
    "pp.pprint(random_clanline.__dict__)"
   ]
  },
  {
   "cell_type": "markdown",
   "metadata": {},
   "source": [
    "# filters for ClanFile\n",
    "\n",
    "There are a bunch of filters available to all the classes which behave roughly identically across different objects. In other words, a filter like get_user_comments() will return the same kind of result whether it's on a ClanFile, ClanBlock, or LineRange.\n",
    "\n",
    "Here are some examples of filters and their results:"
   ]
  },
  {
   "cell_type": "markdown",
   "metadata": {},
   "source": [
    "## ClanFile.get_tiers(*tiers)\n",
    "\n",
    "get_tiers() will return a **LineRange** filled will all the lines in a ClanFile that have the specified tier. For example, let's get all the lines that are \"FAN\" or \"MAN\" tiered:\n"
   ]
  },
  {
   "cell_type": "code",
   "execution_count": 8,
   "metadata": {
    "collapsed": false
   },
   "outputs": [
    {
     "name": "stdout",
     "output_type": "stream",
     "text": [
      "2134717\n"
     ]
    }
   ],
   "source": [
    "# fan_or_man will be a LineRange object with just \n",
    "# the tiered lines that are \"FAN\" or \"MAN\"\n",
    "\n",
    "fan_or_man = clan_file.get_tiers(\"FAN\", \"MAN\")\n",
    "\n",
    "# a LineRange object has a \"total_time\" member. This\n",
    "# is the cumulative time in milliseconds of all the \n",
    "# ClanLines \n",
    "print fan_or_man.total_time"
   ]
  },
  {
   "cell_type": "markdown",
   "metadata": {},
   "source": [
    "or how about \"FAN\", \"MAN\", \"FAF\" and \"OLN\":\n"
   ]
  },
  {
   "cell_type": "code",
   "execution_count": 9,
   "metadata": {
    "collapsed": false
   },
   "outputs": [
    {
     "name": "stdout",
     "output_type": "stream",
     "text": [
      "5175587\n"
     ]
    }
   ],
   "source": [
    "fan_man_faf_oln = clan_file.get_tiers(\"FAN\", \"MAN\", \"FAF\", \"OLN\")\n",
    "\n",
    "print fan_man_faf_oln.total_time"
   ]
  },
  {
   "cell_type": "markdown",
   "metadata": {},
   "source": [
    "# ClanFile.get_conv_block(block_num)\n",
    "\n",
    "get_conv_block() returns a **ClanBlock** object given an integer number. For example:\n"
   ]
  },
  {
   "cell_type": "code",
   "execution_count": 10,
   "metadata": {
    "collapsed": true
   },
   "outputs": [],
   "source": [
    "block_42 = clan_file.get_conv_block(42)"
   ]
  },
  {
   "cell_type": "code",
   "execution_count": 11,
   "metadata": {
    "collapsed": false
   },
   "outputs": [
    {
     "data": {
      "text/plain": [
       "13290"
      ]
     },
     "execution_count": 11,
     "metadata": {},
     "output_type": "execute_result"
    }
   ],
   "source": [
    "block_42.total_time # in milliseconds"
   ]
  },
  {
   "cell_type": "code",
   "execution_count": 12,
   "metadata": {
    "collapsed": false
   },
   "outputs": [
    {
     "data": {
      "text/plain": [
       "1179960"
      ]
     },
     "execution_count": 12,
     "metadata": {},
     "output_type": "execute_result"
    }
   ],
   "source": [
    "block_42.onset # in milliseconds, relative to start of CLAN file"
   ]
  },
  {
   "cell_type": "code",
   "execution_count": 13,
   "metadata": {
    "collapsed": false
   },
   "outputs": [
    {
     "data": {
      "text/plain": [
       "1193250"
      ]
     },
     "execution_count": 13,
     "metadata": {},
     "output_type": "execute_result"
    }
   ],
   "source": [
    "block_42.offset # in milliseconds, relative to start of CLAN file"
   ]
  },
  {
   "cell_type": "markdown",
   "metadata": {},
   "source": [
    "Remember when we mentioned that filters are available across objects? Here's an example. Instead of calling get_tiers() on a ClanFile object, let's call it on this ClanBlock object we've pulled out:\n"
   ]
  },
  {
   "cell_type": "code",
   "execution_count": 14,
   "metadata": {
    "collapsed": true
   },
   "outputs": [],
   "source": [
    "fan_man_in_block42 = block_42.get_tiers(\"FAN\", \"MAN\")"
   ]
  },
  {
   "cell_type": "code",
   "execution_count": 15,
   "metadata": {
    "collapsed": false
   },
   "outputs": [
    {
     "data": {
      "text/plain": [
       "5780"
      ]
     },
     "execution_count": 15,
     "metadata": {},
     "output_type": "execute_result"
    }
   ],
   "source": [
    "fan_man_in_block42.total_time"
   ]
  },
  {
   "cell_type": "code",
   "execution_count": 16,
   "metadata": {
    "collapsed": false
   },
   "outputs": [
    {
     "name": "stdout",
     "output_type": "stream",
     "text": [
      "the tier: FAN\n",
      "the timestamp: 1179960_1181080\n",
      "the raw content of the line:   *FAN:\t&=w4_74 . \u00151179960_1181080\u0015\n",
      "\n",
      "the tier: MAN\n",
      "the timestamp: 1181890_1183030\n",
      "the raw content of the line:   *MAN:\t&=w4_78 . \u00151181890_1183030\u0015\n",
      "\n",
      "the tier: MAN\n",
      "the timestamp: 1188790_1189790\n",
      "the raw content of the line:   *MAN:\t&=w0_90 . \u00151188790_1189790\u0015\n",
      "\n",
      "the tier: FAN\n",
      "the timestamp: 1190730_1193250\n",
      "the raw content of the line:   *FAN:\t&=w11_78 . \u00151190730_1193250\u0015\n",
      "\n"
     ]
    }
   ],
   "source": [
    "for line in fan_man_in_block42.line_map:\n",
    "    print \"the tier: \" + line.tier\n",
    "    print \"the timestamp: \" + line.timestamp()\n",
    "    print \"the raw content of the line:   \" + line.line\n",
    "    "
   ]
  },
  {
   "cell_type": "markdown",
   "metadata": {},
   "source": [
    "fan_man_in_block42 is a LineRange object representing just the FAN and MAN tiered lines in block 42 of this CLAN file."
   ]
  },
  {
   "cell_type": "markdown",
   "metadata": {},
   "source": [
    "# ClanFile.get_conv_blocks(begin=1, end=None, select=None)\n",
    "\n",
    "Instead of just picking out a single conversation block, you can filter out more than one at a time. There's two ways you can call this function. Option 1 is giving it \"begin\" and \"end\" markers. This will return all the blocks between begin and end. Option 2 is supplying a list of specific indices of blocks, and it will return just these specific blocks (in ascending order, list doesn't have to be ordered).\n",
    "\n",
    "Example of Option 1:\n"
   ]
  },
  {
   "cell_type": "code",
   "execution_count": 17,
   "metadata": {
    "collapsed": false
   },
   "outputs": [
    {
     "name": "stdout",
     "output_type": "stream",
     "text": [
      "356880\n"
     ]
    }
   ],
   "source": [
    "blocks_3_to_50 = clan_file.get_conv_blocks(begin=3, end=50)\n",
    "\n",
    "print blocks_3_to_50.total_time"
   ]
  },
  {
   "cell_type": "markdown",
   "metadata": {},
   "source": [
    "Example of Option 2:"
   ]
  },
  {
   "cell_type": "code",
   "execution_count": 18,
   "metadata": {
    "collapsed": false
   },
   "outputs": [
    {
     "name": "stdout",
     "output_type": "stream",
     "text": [
      "32330\n"
     ]
    }
   ],
   "source": [
    "blocks_7_12_56_and_158 = clan_file.get_conv_blocks(select=[7, 12, 56, 158])\n",
    "\n",
    "print blocks_7_12_56_and_158.total_time"
   ]
  },
  {
   "cell_type": "markdown",
   "metadata": {},
   "source": [
    "The resulting object of a get_conv_blocks() function call is a **BlockGroup**.\n",
    "\n",
    "A BlockGroup is a collection of **ClanBlock** objects, layed out into a single line_map. So you can loop through a BlockGroup's line_map just like in a ClanFile of ClanBlock or LineRange:\n"
   ]
  },
  {
   "cell_type": "code",
   "execution_count": 20,
   "metadata": {
    "collapsed": false
   },
   "outputs": [
    {
     "name": "stdout",
     "output_type": "stream",
     "text": [
      "the tier:     MAN\n",
      "timestamp:    299340_300350\n",
      "raw content:  *MAN:\t&=w2_90 . \u0015299340_300350\u0015\n",
      "\n",
      "the tier:     CXN\n",
      "timestamp:    579360_580520\n",
      "raw content:  *CXN:\t0 . \u0015579360_580520\u0015\n",
      "\n",
      "the tier:     FAN\n",
      "timestamp:    1486680_1487840\n",
      "raw content:  *FAN:\t&=w6_54 . \u00151486680_1487840\u0015\n",
      "\n",
      "the tier:     OLN\n",
      "timestamp:    1487840_1488640\n",
      "raw content:  *OLN:\t0 . \u00151487840_1488640\u0015\n",
      "\n",
      "the tier:     FAN\n",
      "timestamp:    1488640_1490680\n",
      "raw content:  *FAN:\t&=w8_17 . \u00151488640_1490680\u0015\n",
      "\n",
      "the tier:     OLN\n",
      "timestamp:    1490680_1491660\n",
      "raw content:  *OLN:\t0 . \u00151490680_1491660\u0015\n",
      "\n",
      "the tier:     NOF\n",
      "timestamp:    1491660_1492470\n",
      "raw content:  *NOF:\t0 . \u00151491660_1492470\u0015\n",
      "\n",
      "the tier:     OLN\n",
      "timestamp:    1492470_1493510\n",
      "raw content:  *OLN:\t0 . \u00151492470_1493510\u0015\n",
      "\n",
      "the tier:     FAN\n",
      "timestamp:    1493510_1495790\n",
      "raw content:  *FAN:\t&=w10_80 . \u00151493510_1495790\u0015\n",
      "\n",
      "the tier:     OLN\n",
      "timestamp:    1495790_1496730\n",
      "raw content:  *OLN:\t0 . \u00151495790_1496730\u0015\n",
      "\n",
      "the tier:     MAN\n",
      "timestamp:    1496730_1497730\n",
      "raw content:  *MAN:\t&=w6_35 . \u00151496730_1497730\u0015\n",
      "\n",
      "the tier:     FAN\n",
      "timestamp:    1497730_1499240\n",
      "raw content:  *FAN:\t&=w5_38 . \u00151497730_1499240\u0015\n",
      "\n",
      "the tier:     MAN\n",
      "timestamp:    1499240_1500240\n",
      "raw content:  *MAN:\t&=w5_07 . \u00151499240_1500240\u0015\n",
      "\n",
      "the tier:     CXN\n",
      "timestamp:    4004000_4004600\n",
      "raw content:  *CXN:\t0 . \u00154004000_4004600\u0015\n",
      "\n",
      "the tier:     NON\n",
      "timestamp:    4004600_4005400\n",
      "raw content:  *NON:\t0 . \u00154004600_4005400\u0015\n",
      "\n",
      "the tier:     OLN\n",
      "timestamp:    4005400_4006210\n",
      "raw content:  *OLN:\t0 . \u00154005400_4006210\u0015\n",
      "\n",
      "the tier:     NOF\n",
      "timestamp:    4006210_4008360\n",
      "raw content:  *NOF:\t0 . \u00154006210_4008360\u0015\n",
      "\n",
      "the tier:     OLN\n",
      "timestamp:    4008360_4009160\n",
      "raw content:  *OLN:\t0 . \u00154008360_4009160\u0015\n",
      "\n",
      "the tier:     CHN\n",
      "timestamp:    4009160_4009770\n",
      "raw content:  *CHN:\t&=vocalization . \u00154009160_4009770\u0015\n",
      "\n",
      "the tier:     FAN\n",
      "timestamp:    4009770_4010770\n",
      "raw content:  *FAN:\t&=w2_87 . \u00154009770_4010770\u0015\n",
      "\n",
      "the tier:     SIL\n",
      "timestamp:    4010770_4012110\n",
      "raw content:  *SIL:\t0 . \u00154010770_4012110\u0015\n",
      "\n",
      "the tier:     NOF\n",
      "timestamp:    4012110_4014360\n",
      "raw content:  *NOF:\t0 . \u00154012110_4014360\u0015\n",
      "\n",
      "the tier:     CHF\n",
      "timestamp:    4014360_4014730\n",
      "raw content:  *CHF:\t0 \u00154014360_4014730\u0015\n",
      "\n",
      "the tier:     CHF\n",
      "timestamp:    4014730_4014970\n",
      "raw content:  \t&=vocalization . \u00154014730_4014970\u0015\n",
      "\n",
      "the tier:     NOF\n",
      "timestamp:    4014970_4018570\n",
      "raw content:  *NOF:\t0 . \u00154014970_4018570\u0015\n",
      "\n",
      "the tier:     SIL\n",
      "timestamp:    4018570_4019800\n",
      "raw content:  *SIL:\t0 . \u00154018570_4019800\u0015\n",
      "\n",
      "the tier:     CXN\n",
      "timestamp:    4019800_4020600\n",
      "raw content:  *CXN:\t0 . \u00154019800_4020600\u0015\n",
      "\n"
     ]
    }
   ],
   "source": [
    "for line in blocks_7_12_56_and_158.line_map:\n",
    "    if line.is_tier_line:\n",
    "        print \"the tier:     \" + line.tier\n",
    "        print \"timestamp:    \" + line.timestamp()\n",
    "        print \"raw content:  \" + line.line"
   ]
  },
  {
   "cell_type": "code",
   "execution_count": null,
   "metadata": {
    "collapsed": true
   },
   "outputs": [],
   "source": []
  },
  {
   "cell_type": "code",
   "execution_count": null,
   "metadata": {
    "collapsed": true
   },
   "outputs": [],
   "source": []
  },
  {
   "cell_type": "code",
   "execution_count": null,
   "metadata": {
    "collapsed": true
   },
   "outputs": [],
   "source": []
  }
 ],
 "metadata": {
  "kernelspec": {
   "display_name": "Python 2",
   "language": "python",
   "name": "python2"
  },
  "language_info": {
   "codemirror_mode": {
    "name": "ipython",
    "version": 2
   },
   "file_extension": ".py",
   "mimetype": "text/x-python",
   "name": "python",
   "nbconvert_exporter": "python",
   "pygments_lexer": "ipython2",
   "version": "2.7.12"
  }
 },
 "nbformat": 4,
 "nbformat_minor": 0
}
